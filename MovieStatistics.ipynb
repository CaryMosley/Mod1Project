{
 "cells": [
  {
   "cell_type": "code",
   "execution_count": 263,
   "metadata": {},
   "outputs": [],
   "source": [
    "#import the module\n",
    "import json\n",
    "import pandas as pd\n",
    "import requests\n",
    "import numpy as np\n",
    "from datetime import datetime\n",
    "\n",
    "#retrieve theMovieDB.org API key\n",
    "def get_keys(path):\n",
    "    '''\n",
    "    Init signature: get_keys(filename=None)\n",
    "    Docstring:     \n",
    "    get_keys(filename='') -> dict\n",
    "    Retrieve API key stored on file.  return a dictionary.\n",
    "    \n",
    "    Parameters\n",
    "    ----------\n",
    "    filename: Loation of the json file where the API key is stored.\n",
    "      \n",
    "    '''\n",
    "    with open(path) as f:\n",
    "        return json.load(f)\n"
   ]
  },
  {
   "cell_type": "code",
   "execution_count": 38,
   "metadata": {},
   "outputs": [],
   "source": [
    "# import the api key for movieDB using the get_keys function\n",
    "keys = get_keys('moviedb.json')\n",
    "\n",
    "#assign API value to variabloe\n",
    "api_key = keys['api_key']\n"
   ]
  },
  {
   "cell_type": "markdown",
   "metadata": {},
   "source": [
    "To be deleted\n",
    "https://api.themoviedb.org/3/discover/movie?api_key=da53dbf2111373cbf50f44192834054a&language=en-US\n",
    "&sort_by=popularity.desc&include_adult=false&include_video=false&page=3&primary_release_date.gte=2010-01-01"
   ]
  },
  {
   "cell_type": "code",
   "execution_count": null,
   "metadata": {},
   "outputs": [],
   "source": [
    "# Define get request parameters\n",
    "url = 'https://api.themoviedb.org/3/discover/movie?'\n",
    "langauge = 'en-US'\n",
    "sort_by = 'desc'\n",
    "include_adult = 'false'\n",
    "include_video = 'false'\n",
    "primary_release_date_gt = '2010-01-01'\n",
    "\n",
    "url_param = {\n",
    "                'api_key': api_key,\n",
    "                'language': langauge,\n",
    "                'sort_by': sort_by,\n",
    "                'include_adult': include_adult,\n",
    "                'include_video': include_video,\n",
    "                'primary_release_date.gt': primary_release_date_gt\n",
    "            }\n",
    "\n",
    "# url_param.update({'page': 1})\n",
    "# test = requests.get(url, params=url_param)\n",
    "# test.json()['results']\n",
    "\n",
    "# API only return 1 page with 20 results.  Set the loop to 500 times since the max number of pages allowed is 10,000.\n",
    "for i in range(1,500): \n",
    "    # update the page number using the iterate value\n",
    "    url_param.update({'page': i})\n",
    "    # create the response ojb.\n",
    "    resp = requests.get(url, params=url_param)\n",
    "    # if request status is sucessful and the value of key ['page'] is 1\n",
    "    if resp.status_code == 200 and resp.json()['page'] == 1:\n",
    "        # create the DataFrame\n",
    "        df = pd.DataFrame.from_dict(resp.json()['results'])\n",
    "    # if request status is sucessful and able to read the value of key ['page']\n",
    "    elif resp.status_code == 200 and resp.json().get('page', 10000) < 10000:\n",
    "        print(resp.json()['page'])\n",
    "        a = pd.DataFrame.from_dict(resp.json()['results'])\n",
    "        df = pd.concat([df, a], sort=False)\n",
    "    # if request status is sucessful and unable to read the value of key ['page'], assign value 10,000 and quit the loop  \n",
    "    elif resp.status_code == 200 and resp.json().get('page', 10000) == 10000:\n",
    "        break\n"
   ]
  },
  {
   "cell_type": "code",
   "execution_count": 211,
   "metadata": {},
   "outputs": [],
   "source": [
    "#export tmdb movie lists from dataframe to csv\n",
    "df.to_csv('tmdb.csv', index=False)"
   ]
  },
  {
   "cell_type": "code",
   "execution_count": 137,
   "metadata": {
    "scrolled": true
   },
   "outputs": [],
   "source": [
    "# reset dataframe index due to duplicates from concat of dataframe\n",
    "df2 = df.reset_index()\n",
    "\n",
    "# remove column index as well as irrelevent columns\n",
    "df2.drop(['index', 'video', 'poster_path', 'backdrop_path'], axis=1, inplace=True)\n"
   ]
  },
  {
   "cell_type": "code",
   "execution_count": 139,
   "metadata": {},
   "outputs": [
    {
     "data": {
      "text/plain": [
       "(200, nan)"
      ]
     },
     "execution_count": 139,
     "metadata": {},
     "output_type": "execute_result"
    }
   ],
   "source": [
    "# create a function to send request to pull movie details\n",
    "# define get request parameters\n",
    "\n",
    "def get_movie_bud_rev(movieid,rev_bud='revenue'):\n",
    "    '''\n",
    "    Init signature: get_keys(movie_id)\n",
    "    Docstring:     \n",
    "    get_movie_rev -> float\n",
    "    Retrieve \n",
    "    \n",
    "    Parameters\n",
    "    ----------\n",
    "    url: base TMDB API base URL\n",
    "    api_key: TMDB api_key\n",
    "    movie_id: TMDB movie id\n",
    "\n",
    "    '''\n",
    "    url = 'https://api.themoviedb.org/3/movie/' + str(movieid) + '?'\n",
    "    url_param = {\n",
    "                    'api_key': api_key,\n",
    "                    'language': 'en-US',\n",
    "                }\n",
    "    resp = requests.get(url, params=url_param)\n",
    "    if resp.status_code == 200:# and bud_rev == 'revenue':\n",
    "        resp_bud_rev = resp.json()[rev_bud]\n",
    "#         print(movieid)\n",
    "    else:\n",
    "        resp_bud_rev = np.nan\n",
    "  \n",
    "        \n",
    "    return resp_bud_rev\n"
   ]
  },
  {
   "cell_type": "code",
   "execution_count": 242,
   "metadata": {},
   "outputs": [
    {
     "name": "stdout",
     "output_type": "stream",
     "text": [
      "<class 'pandas.core.frame.DataFrame'>\n",
      "RangeIndex: 9980 entries, 0 to 9979\n",
      "Data columns (total 9 columns):\n",
      "popularity           9980 non-null float64\n",
      "vote_count           9980 non-null int64\n",
      "vote_average         9980 non-null float64\n",
      "title                9980 non-null object\n",
      "release_date         9889 non-null object\n",
      "original_language    9980 non-null object\n",
      "revenue              9850 non-null float64\n",
      "budget               9850 non-null float64\n",
      "genre_names          20 non-null object\n",
      "dtypes: float64(4), int64(1), object(4)\n",
      "memory usage: 701.8+ KB\n"
     ]
    }
   ],
   "source": [
    "df2.info()\n"
   ]
  },
  {
   "cell_type": "code",
   "execution_count": null,
   "metadata": {},
   "outputs": [],
   "source": [
    "#create the budget and the revenue columns\n",
    "df2['revenue'] = df2['id'].apply(lambda x: get_movie_bud_rev(x, 'revenue'))\n",
    "df2['budget'] = df2['id'].apply(lambda x: get_movie_bud_rev(x, 'budget'))\n",
    "\n"
   ]
  },
  {
   "cell_type": "code",
   "execution_count": 216,
   "metadata": {},
   "outputs": [],
   "source": [
    "# get the genre id classification from tmdb web site\n",
    "#https://api.themoviedb.org/3/genre/movie/list?api_key=da53dbf2111373cbf50f44192834054a&language=en-US\n",
    "def get_genre():\n",
    "    g_resp = requests.get(\n",
    "        'https://api.themoviedb.org/3/genre/movie/list?api_key='\n",
    "        + str(api_key) + '&language=en-US'\n",
    "        )\n",
    "    if g_resp.status_code == 200:\n",
    "        genre_dict =  sorted(g_resp.json()['genres'], key=lambda x: x['id'])\n",
    "        \n",
    "    return genre_dict\n",
    "        "
   ]
  },
  {
   "cell_type": "code",
   "execution_count": 217,
   "metadata": {},
   "outputs": [],
   "source": [
    "def match_genre_id(gid):\n",
    "    genre_name = []\n",
    "    genre_dict = get_genre()\n",
    "    for i in gid:\n",
    "        for j in genre_dict:\n",
    "            if j['id'] == i:\n",
    "                genre_name.append(j['name'])\n",
    "    \n",
    "    return genre_name"
   ]
  },
  {
   "cell_type": "code",
   "execution_count": 218,
   "metadata": {},
   "outputs": [],
   "source": [
    "# match_genre_id(df2['genre_ids'].head()[0])\n",
    "df2['genre_names'] = df2['genre_ids'].head(20).apply(lambda x: match_genre_id(x)).head(209)\n",
    "\n",
    "\n"
   ]
  },
  {
   "cell_type": "code",
   "execution_count": 220,
   "metadata": {},
   "outputs": [],
   "source": [
    "#export df2 before dropping columns id, genre_ids, adult, overview, original_title\n",
    "df2.to_csv('df2_b4_drop_col.csv', index=False)"
   ]
  },
  {
   "cell_type": "code",
   "execution_count": 223,
   "metadata": {},
   "outputs": [],
   "source": [
    "# drop irrelevent columns\n",
    "df2.drop(['id', 'genre_ids','overview', 'adult', 'original_title'], axis=1, inplace=True)"
   ]
  },
  {
   "cell_type": "code",
   "execution_count": 281,
   "metadata": {},
   "outputs": [
    {
     "data": {
      "text/plain": [
       "'1966'"
      ]
     },
     "execution_count": 281,
     "metadata": {},
     "output_type": "execute_result"
    }
   ],
   "source": [
    "df2['release_date'][300][0:4]\n",
    "x: 'Good' if any([word in x.lower() for word in ['awesome', 'love', 'good', 'great']]) else 'Bad').head()"
   ]
  },
  {
   "cell_type": "code",
   "execution_count": 303,
   "metadata": {},
   "outputs": [],
   "source": [
    "df2['release_date'] = df2['release_date'].map(lambda x: x[0:4] if not pd.isnull(x) else x)\n"
   ]
  },
  {
   "cell_type": "code",
   "execution_count": 305,
   "metadata": {},
   "outputs": [
    {
     "data": {
      "text/html": [
       "<div>\n",
       "<style scoped>\n",
       "    .dataframe tbody tr th:only-of-type {\n",
       "        vertical-align: middle;\n",
       "    }\n",
       "\n",
       "    .dataframe tbody tr th {\n",
       "        vertical-align: top;\n",
       "    }\n",
       "\n",
       "    .dataframe thead th {\n",
       "        text-align: right;\n",
       "    }\n",
       "</style>\n",
       "<table border=\"1\" class=\"dataframe\">\n",
       "  <thead>\n",
       "    <tr style=\"text-align: right;\">\n",
       "      <th></th>\n",
       "      <th>popularity</th>\n",
       "      <th>vote_count</th>\n",
       "      <th>vote_average</th>\n",
       "      <th>title</th>\n",
       "      <th>release_date</th>\n",
       "      <th>original_language</th>\n",
       "      <th>revenue</th>\n",
       "      <th>budget</th>\n",
       "      <th>genre_names</th>\n",
       "    </tr>\n",
       "  </thead>\n",
       "  <tbody>\n",
       "    <tr>\n",
       "      <td>0</td>\n",
       "      <td>0.600</td>\n",
       "      <td>1</td>\n",
       "      <td>6.0</td>\n",
       "      <td>The Strange Cohabitation</td>\n",
       "      <td>2013</td>\n",
       "      <td>ko</td>\n",
       "      <td>NaN</td>\n",
       "      <td>NaN</td>\n",
       "      <td>[Mystery, Horror]</td>\n",
       "    </tr>\n",
       "    <tr>\n",
       "      <td>1</td>\n",
       "      <td>5.511</td>\n",
       "      <td>66</td>\n",
       "      <td>7.5</td>\n",
       "      <td>A Brief History of Time</td>\n",
       "      <td>1991</td>\n",
       "      <td>en</td>\n",
       "      <td>0.0</td>\n",
       "      <td>0.0</td>\n",
       "      <td>[Documentary]</td>\n",
       "    </tr>\n",
       "    <tr>\n",
       "      <td>2</td>\n",
       "      <td>19.668</td>\n",
       "      <td>5053</td>\n",
       "      <td>7.3</td>\n",
       "      <td>American Psycho</td>\n",
       "      <td>2000</td>\n",
       "      <td>en</td>\n",
       "      <td>34266564.0</td>\n",
       "      <td>7000000.0</td>\n",
       "      <td>[Thriller, Drama, Crime, Horror]</td>\n",
       "    </tr>\n",
       "    <tr>\n",
       "      <td>3</td>\n",
       "      <td>15.054</td>\n",
       "      <td>1177</td>\n",
       "      <td>7.5</td>\n",
       "      <td>Frida</td>\n",
       "      <td>2002</td>\n",
       "      <td>en</td>\n",
       "      <td>56298474.0</td>\n",
       "      <td>12000000.0</td>\n",
       "      <td>[Drama, Romance]</td>\n",
       "    </tr>\n",
       "    <tr>\n",
       "      <td>4</td>\n",
       "      <td>5.485</td>\n",
       "      <td>19</td>\n",
       "      <td>5.8</td>\n",
       "      <td>The Return of the King</td>\n",
       "      <td>1980</td>\n",
       "      <td>en</td>\n",
       "      <td>0.0</td>\n",
       "      <td>0.0</td>\n",
       "      <td>[Animation, Fantasy, Family, TV Movie]</td>\n",
       "    </tr>\n",
       "  </tbody>\n",
       "</table>\n",
       "</div>"
      ],
      "text/plain": [
       "   popularity  vote_count  vote_average                     title  \\\n",
       "0       0.600           1           6.0  The Strange Cohabitation   \n",
       "1       5.511          66           7.5   A Brief History of Time   \n",
       "2      19.668        5053           7.3           American Psycho   \n",
       "3      15.054        1177           7.5                     Frida   \n",
       "4       5.485          19           5.8    The Return of the King   \n",
       "\n",
       "  release_date original_language     revenue      budget  \\\n",
       "0         2013                ko         NaN         NaN   \n",
       "1         1991                en         0.0         0.0   \n",
       "2         2000                en  34266564.0   7000000.0   \n",
       "3         2002                en  56298474.0  12000000.0   \n",
       "4         1980                en         0.0         0.0   \n",
       "\n",
       "                              genre_names  \n",
       "0                       [Mystery, Horror]  \n",
       "1                           [Documentary]  \n",
       "2        [Thriller, Drama, Crime, Horror]  \n",
       "3                        [Drama, Romance]  \n",
       "4  [Animation, Fantasy, Family, TV Movie]  "
      ]
     },
     "execution_count": 305,
     "metadata": {},
     "output_type": "execute_result"
    }
   ],
   "source": [
    "df2.head()"
   ]
  },
  {
   "cell_type": "code",
   "execution_count": null,
   "metadata": {},
   "outputs": [],
   "source": []
  }
 ],
 "metadata": {
  "kernelspec": {
   "display_name": "Python 3",
   "language": "python",
   "name": "python3"
  },
  "language_info": {
   "codemirror_mode": {
    "name": "ipython",
    "version": 3
   },
   "file_extension": ".py",
   "mimetype": "text/x-python",
   "name": "python",
   "nbconvert_exporter": "python",
   "pygments_lexer": "ipython3",
   "version": "3.7.4"
  }
 },
 "nbformat": 4,
 "nbformat_minor": 2
}
