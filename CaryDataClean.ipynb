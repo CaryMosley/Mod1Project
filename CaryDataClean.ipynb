{
 "cells": [
  {
   "cell_type": "code",
   "execution_count": 2,
   "metadata": {},
   "outputs": [],
   "source": [
    "\n",
    "import pandas as pd\n",
    "import numpy as np\n",
    "import re\n",
    "import lxml\n",
    "import seaborn as sns\n",
    "import matplotlib as plt\n",
    "\n",
    "%matplotlib inline"
   ]
  },
  {
   "cell_type": "code",
   "execution_count": 151,
   "metadata": {},
   "outputs": [],
   "source": [
    "\n",
    "df = pd.read_csv('movieData.csv')\n",
    "df2 = pd.read_csv('final_movies.csv')"
   ]
  },
  {
   "cell_type": "code",
   "execution_count": 152,
   "metadata": {},
   "outputs": [
    {
     "data": {
      "text/plain": [
       "(9980, 9)"
      ]
     },
     "execution_count": 152,
     "metadata": {},
     "output_type": "execute_result"
    }
   ],
   "source": [
    "df2.shape"
   ]
  },
  {
   "cell_type": "code",
   "execution_count": 153,
   "metadata": {},
   "outputs": [],
   "source": [
    "df2.columns = map(str.title, df2.columns)\n",
    "df2.rename(columns={'Release_Date':'Year','Genre_Names':'Genre'},inplace = True)\n",
    "df2.dropna(subset = ['Year'], inplace = True)\n",
    "df2['Year']=df2['Year'].astype(int)"
   ]
  },
  {
   "cell_type": "code",
   "execution_count": 154,
   "metadata": {},
   "outputs": [
    {
     "data": {
      "text/plain": [
       "0         Comedy Drama Thriller\n",
       "1         Horror Mystery Sci-Fi\n",
       "2            Comedy Crime Drama\n",
       "3       Action Adventure Comedy\n",
       "4              Comedy Drama War\n",
       "                 ...           \n",
       "4781       Comedy Drama Romance\n",
       "4782               Comedy Drama\n",
       "4783               Comedy Drama\n",
       "4784       Comedy Drama Romance\n",
       "4785                      Drama\n",
       "Name: Genre, Length: 4786, dtype: object"
      ]
     },
     "execution_count": 154,
     "metadata": {},
     "output_type": "execute_result"
    }
   ],
   "source": [
    "df['Genre']"
   ]
  },
  {
   "cell_type": "code",
   "execution_count": 35,
   "metadata": {},
   "outputs": [],
   "source": []
  },
  {
   "cell_type": "code",
   "execution_count": 146,
   "metadata": {},
   "outputs": [],
   "source": [
    "merged = pd.merge(left = df, right = df2, on=['Title', 'Year'])"
   ]
  },
  {
   "cell_type": "code",
   "execution_count": 5,
   "metadata": {},
   "outputs": [],
   "source": []
  },
  {
   "cell_type": "code",
   "execution_count": 155,
   "metadata": {},
   "outputs": [
    {
     "data": {
      "text/html": [
       "<div>\n",
       "<style scoped>\n",
       "    .dataframe tbody tr th:only-of-type {\n",
       "        vertical-align: middle;\n",
       "    }\n",
       "\n",
       "    .dataframe tbody tr th {\n",
       "        vertical-align: top;\n",
       "    }\n",
       "\n",
       "    .dataframe thead th {\n",
       "        text-align: right;\n",
       "    }\n",
       "</style>\n",
       "<table border=\"1\" class=\"dataframe\">\n",
       "  <thead>\n",
       "    <tr style=\"text-align: right;\">\n",
       "      <th></th>\n",
       "      <th>Title</th>\n",
       "      <th>Year</th>\n",
       "      <th>Genre</th>\n",
       "      <th>Rating</th>\n",
       "      <th>Score</th>\n",
       "      <th>Director</th>\n",
       "      <th>Stars</th>\n",
       "      <th>Gross</th>\n",
       "    </tr>\n",
       "  </thead>\n",
       "  <tbody>\n",
       "    <tr>\n",
       "      <td>93</td>\n",
       "      <td>Fight Club</td>\n",
       "      <td>1999</td>\n",
       "      <td>Drama</td>\n",
       "      <td>8.8</td>\n",
       "      <td>66.0</td>\n",
       "      <td>David Fincher</td>\n",
       "      <td>['Brad Pitt', 'Edward Norton', 'Meat Loaf', 'Z...</td>\n",
       "      <td>37030102</td>\n",
       "    </tr>\n",
       "  </tbody>\n",
       "</table>\n",
       "</div>"
      ],
      "text/plain": [
       "         Title  Year  Genre  Rating  Score       Director  \\\n",
       "93  Fight Club  1999  Drama     8.8   66.0  David Fincher   \n",
       "\n",
       "                                                Stars     Gross  \n",
       "93  ['Brad Pitt', 'Edward Norton', 'Meat Loaf', 'Z...  37030102  "
      ]
     },
     "execution_count": 155,
     "metadata": {},
     "output_type": "execute_result"
    }
   ],
   "source": [
    "merged.head()\n",
    "df.loc[df['Title'] == 'Fight Club']"
   ]
  },
  {
   "cell_type": "code",
   "execution_count": 159,
   "metadata": {},
   "outputs": [
    {
     "data": {
      "text/plain": [
       "0                                ['Mystery', 'Horror']\n",
       "1                                      ['Documentary']\n",
       "2             ['Thriller', 'Drama', 'Crime', 'Horror']\n",
       "3                                 ['Drama', 'Romance']\n",
       "4       ['Animation', 'Fantasy', 'Family', 'TV Movie']\n",
       "                             ...                      \n",
       "9975                                               NaN\n",
       "9976                                               NaN\n",
       "9977                                               NaN\n",
       "9978                                               NaN\n",
       "9979                                               NaN\n",
       "Name: Genre, Length: 9837, dtype: object"
      ]
     },
     "execution_count": 159,
     "metadata": {},
     "output_type": "execute_result"
    }
   ],
   "source": [
    "df2['Genre']"
   ]
  },
  {
   "cell_type": "code",
   "execution_count": 149,
   "metadata": {},
   "outputs": [
    {
     "data": {
      "text/html": [
       "<div>\n",
       "<style scoped>\n",
       "    .dataframe tbody tr th:only-of-type {\n",
       "        vertical-align: middle;\n",
       "    }\n",
       "\n",
       "    .dataframe tbody tr th {\n",
       "        vertical-align: top;\n",
       "    }\n",
       "\n",
       "    .dataframe thead th {\n",
       "        text-align: right;\n",
       "    }\n",
       "</style>\n",
       "<table border=\"1\" class=\"dataframe\">\n",
       "  <thead>\n",
       "    <tr style=\"text-align: right;\">\n",
       "      <th></th>\n",
       "      <th>Popularity</th>\n",
       "      <th>Vote_Count</th>\n",
       "      <th>Vote_Average</th>\n",
       "      <th>Title</th>\n",
       "      <th>Year</th>\n",
       "      <th>Original_Language</th>\n",
       "      <th>Revenue</th>\n",
       "      <th>Budget</th>\n",
       "      <th>Genre</th>\n",
       "    </tr>\n",
       "  </thead>\n",
       "  <tbody>\n",
       "    <tr>\n",
       "      <td>102</td>\n",
       "      <td>34.164</td>\n",
       "      <td>18240</td>\n",
       "      <td>8.4</td>\n",
       "      <td>Fight Club</td>\n",
       "      <td>1999</td>\n",
       "      <td>en</td>\n",
       "      <td>100853753.0</td>\n",
       "      <td>63000000.0</td>\n",
       "      <td>NaN</td>\n",
       "    </tr>\n",
       "    <tr>\n",
       "      <td>5490</td>\n",
       "      <td>34.164</td>\n",
       "      <td>18240</td>\n",
       "      <td>8.4</td>\n",
       "      <td>Fight Club</td>\n",
       "      <td>1999</td>\n",
       "      <td>en</td>\n",
       "      <td>100853753.0</td>\n",
       "      <td>63000000.0</td>\n",
       "      <td>NaN</td>\n",
       "    </tr>\n",
       "  </tbody>\n",
       "</table>\n",
       "</div>"
      ],
      "text/plain": [
       "      Popularity  Vote_Count  Vote_Average       Title  Year  \\\n",
       "102       34.164       18240           8.4  Fight Club  1999   \n",
       "5490      34.164       18240           8.4  Fight Club  1999   \n",
       "\n",
       "     Original_Language      Revenue      Budget Genre  \n",
       "102                 en  100853753.0  63000000.0   NaN  \n",
       "5490                en  100853753.0  63000000.0   NaN  "
      ]
     },
     "execution_count": 149,
     "metadata": {},
     "output_type": "execute_result"
    }
   ],
   "source": [
    "df2.loc[df2['Title']=='Fight Club']"
   ]
  },
  {
   "cell_type": "code",
   "execution_count": 45,
   "metadata": {},
   "outputs": [
    {
     "data": {
      "text/html": [
       "<div>\n",
       "<style scoped>\n",
       "    .dataframe tbody tr th:only-of-type {\n",
       "        vertical-align: middle;\n",
       "    }\n",
       "\n",
       "    .dataframe tbody tr th {\n",
       "        vertical-align: top;\n",
       "    }\n",
       "\n",
       "    .dataframe thead th {\n",
       "        text-align: right;\n",
       "    }\n",
       "</style>\n",
       "<table border=\"1\" class=\"dataframe\">\n",
       "  <thead>\n",
       "    <tr style=\"text-align: right;\">\n",
       "      <th></th>\n",
       "      <th>Title</th>\n",
       "      <th>Year</th>\n",
       "      <th>Genre_x</th>\n",
       "      <th>Rating</th>\n",
       "      <th>Score</th>\n",
       "      <th>Director</th>\n",
       "      <th>Stars</th>\n",
       "      <th>Gross</th>\n",
       "      <th>Popularity</th>\n",
       "      <th>Vote_Count</th>\n",
       "      <th>Vote_Average</th>\n",
       "      <th>Original_Language</th>\n",
       "      <th>Revenue</th>\n",
       "      <th>Budget</th>\n",
       "      <th>Genre_y</th>\n",
       "    </tr>\n",
       "  </thead>\n",
       "  <tbody>\n",
       "    <tr>\n",
       "      <td>4</td>\n",
       "      <td>Fight Club</td>\n",
       "      <td>1999</td>\n",
       "      <td>['Drama']</td>\n",
       "      <td>8.8</td>\n",
       "      <td>66.0</td>\n",
       "      <td>David Fincher</td>\n",
       "      <td>['Brad Pitt', 'Edward Norton', 'Meat Loaf', 'Z...</td>\n",
       "      <td>$37,030,102</td>\n",
       "      <td>34.164</td>\n",
       "      <td>18240</td>\n",
       "      <td>8.4</td>\n",
       "      <td>en</td>\n",
       "      <td>100853753.0</td>\n",
       "      <td>63000000.0</td>\n",
       "      <td>NaN</td>\n",
       "    </tr>\n",
       "    <tr>\n",
       "      <td>5</td>\n",
       "      <td>Fight Club</td>\n",
       "      <td>1999</td>\n",
       "      <td>['Drama']</td>\n",
       "      <td>8.8</td>\n",
       "      <td>66.0</td>\n",
       "      <td>David Fincher</td>\n",
       "      <td>['Brad Pitt', 'Edward Norton', 'Meat Loaf', 'Z...</td>\n",
       "      <td>$37,030,102</td>\n",
       "      <td>34.164</td>\n",
       "      <td>18240</td>\n",
       "      <td>8.4</td>\n",
       "      <td>en</td>\n",
       "      <td>100853753.0</td>\n",
       "      <td>63000000.0</td>\n",
       "      <td>NaN</td>\n",
       "    </tr>\n",
       "  </tbody>\n",
       "</table>\n",
       "</div>"
      ],
      "text/plain": [
       "        Title  Year    Genre_x  Rating  Score       Director  \\\n",
       "4  Fight Club  1999  ['Drama']     8.8   66.0  David Fincher   \n",
       "5  Fight Club  1999  ['Drama']     8.8   66.0  David Fincher   \n",
       "\n",
       "                                               Stars        Gross  Popularity  \\\n",
       "4  ['Brad Pitt', 'Edward Norton', 'Meat Loaf', 'Z...  $37,030,102      34.164   \n",
       "5  ['Brad Pitt', 'Edward Norton', 'Meat Loaf', 'Z...  $37,030,102      34.164   \n",
       "\n",
       "   Vote_Count  Vote_Average Original_Language      Revenue      Budget Genre_y  \n",
       "4       18240           8.4                en  100853753.0  63000000.0     NaN  \n",
       "5       18240           8.4                en  100853753.0  63000000.0     NaN  "
      ]
     },
     "execution_count": 45,
     "metadata": {},
     "output_type": "execute_result"
    }
   ],
   "source": [
    "merged.loc[merged['Title']=='Fight Club']"
   ]
  },
  {
   "cell_type": "code",
   "execution_count": null,
   "metadata": {},
   "outputs": [],
   "source": []
  },
  {
   "cell_type": "code",
   "execution_count": 49,
   "metadata": {},
   "outputs": [],
   "source": []
  },
  {
   "cell_type": "code",
   "execution_count": 31,
   "metadata": {},
   "outputs": [
    {
     "data": {
      "text/plain": [
       "<matplotlib.axes._subplots.AxesSubplot at 0x1a32a536d0>"
      ]
     },
     "execution_count": 31,
     "metadata": {},
     "output_type": "execute_result"
    },
    {
     "data": {
      "image/png": "[encoded data removed]",
      "text/plain": [
       "<Figure size 432x288 with 1 Axes>"
      ]
     },
     "metadata": {
      "needs_background": "light"
     },
     "output_type": "display_data"
    }
   ],
   "source": [
    "gross = df['Gross']\n",
    "rating = df['Rating']\n",
    "ax = sns.scatterplot(x = 'Gross',y = 'Rating', data = df)\n"
   ]
  },
  {
   "cell_type": "code",
   "execution_count": 65,
   "metadata": {},
   "outputs": [
    {
     "data": {
      "text/html": [
       "<div>\n",
       "<style scoped>\n",
       "    .dataframe tbody tr th:only-of-type {\n",
       "        vertical-align: middle;\n",
       "    }\n",
       "\n",
       "    .dataframe tbody tr th {\n",
       "        vertical-align: top;\n",
       "    }\n",
       "\n",
       "    .dataframe thead th {\n",
       "        text-align: right;\n",
       "    }\n",
       "</style>\n",
       "<table border=\"1\" class=\"dataframe\">\n",
       "  <thead>\n",
       "    <tr style=\"text-align: right;\">\n",
       "      <th></th>\n",
       "      <th>Year</th>\n",
       "      <th>Rating</th>\n",
       "      <th>Score</th>\n",
       "      <th>Gross</th>\n",
       "    </tr>\n",
       "  </thead>\n",
       "  <tbody>\n",
       "    <tr>\n",
       "      <td>Year</td>\n",
       "      <td>1.000000</td>\n",
       "      <td>-0.130756</td>\n",
       "      <td>0.016249</td>\n",
       "      <td>0.116574</td>\n",
       "    </tr>\n",
       "    <tr>\n",
       "      <td>Rating</td>\n",
       "      <td>-0.130756</td>\n",
       "      <td>1.000000</td>\n",
       "      <td>0.572534</td>\n",
       "      <td>0.195053</td>\n",
       "    </tr>\n",
       "    <tr>\n",
       "      <td>Score</td>\n",
       "      <td>0.016249</td>\n",
       "      <td>0.572534</td>\n",
       "      <td>1.000000</td>\n",
       "      <td>0.216491</td>\n",
       "    </tr>\n",
       "    <tr>\n",
       "      <td>Gross</td>\n",
       "      <td>0.116574</td>\n",
       "      <td>0.195053</td>\n",
       "      <td>0.216491</td>\n",
       "      <td>1.000000</td>\n",
       "    </tr>\n",
       "  </tbody>\n",
       "</table>\n",
       "</div>"
      ],
      "text/plain": [
       "            Year    Rating     Score     Gross\n",
       "Year    1.000000 -0.130756  0.016249  0.116574\n",
       "Rating -0.130756  1.000000  0.572534  0.195053\n",
       "Score   0.016249  0.572534  1.000000  0.216491\n",
       "Gross   0.116574  0.195053  0.216491  1.000000"
      ]
     },
     "execution_count": 65,
     "metadata": {},
     "output_type": "execute_result"
    }
   ],
   "source": [
    "df.corr()"
   ]
  },
  {
   "cell_type": "code",
   "execution_count": 89,
   "metadata": {},
   "outputs": [],
   "source": []
  },
  {
   "cell_type": "code",
   "execution_count": 130,
   "metadata": {},
   "outputs": [],
   "source": []
  },
  {
   "cell_type": "code",
   "execution_count": 136,
   "metadata": {},
   "outputs": [],
   "source": [
    "score = df[['Director','Gross','Score']].groupby('Score').mean().sort_values('Gross', ascending = False)\n",
    "\n",
    "rating = df[['Director','Gross','Rating']].groupby('Rating').mean().sort_values('Gross', ascending = False)\n",
    "\n",
    "genres = df[['Director','Gross','Genre']].groupby('Genre').mean().sort_values('Gross', ascending = False)\n",
    "\n",
    "\n"
   ]
  },
  {
   "cell_type": "code",
   "execution_count": 137,
   "metadata": {},
   "outputs": [],
   "source": [
    "score['Score']=score.index\n",
    "rating['Rating']=rating.index\n",
    "genres['Genres']=genres.index\n",
    "rating['Log Gross']=np.log(rating['Gross'])\n",
    "score.reset_index(drop = True, inplace = True)\n",
    "rating.reset_index(drop = True, inplace = True)\n",
    "genres.reset_index(drop = True, inplace = True)"
   ]
  },
  {
   "cell_type": "code",
   "execution_count": 119,
   "metadata": {},
   "outputs": [],
   "source": [
    "\n"
   ]
  },
  {
   "cell_type": "code",
   "execution_count": 122,
   "metadata": {},
   "outputs": [
    {
     "data": {
      "text/html": [
       "<div>\n",
       "<style scoped>\n",
       "    .dataframe tbody tr th:only-of-type {\n",
       "        vertical-align: middle;\n",
       "    }\n",
       "\n",
       "    .dataframe tbody tr th {\n",
       "        vertical-align: top;\n",
       "    }\n",
       "\n",
       "    .dataframe thead th {\n",
       "        text-align: right;\n",
       "    }\n",
       "</style>\n",
       "<table border=\"1\" class=\"dataframe\">\n",
       "  <thead>\n",
       "    <tr style=\"text-align: right;\">\n",
       "      <th></th>\n",
       "      <th>Gross</th>\n",
       "      <th>Score</th>\n",
       "    </tr>\n",
       "  </thead>\n",
       "  <tbody>\n",
       "    <tr>\n",
       "      <td>0</td>\n",
       "      <td>1.250016e+08</td>\n",
       "      <td>0</td>\n",
       "    </tr>\n",
       "    <tr>\n",
       "      <td>1</td>\n",
       "      <td>1.100475e+08</td>\n",
       "      <td>1</td>\n",
       "    </tr>\n",
       "    <tr>\n",
       "      <td>2</td>\n",
       "      <td>9.140579e+07</td>\n",
       "      <td>2</td>\n",
       "    </tr>\n",
       "    <tr>\n",
       "      <td>3</td>\n",
       "      <td>8.591254e+07</td>\n",
       "      <td>3</td>\n",
       "    </tr>\n",
       "    <tr>\n",
       "      <td>4</td>\n",
       "      <td>8.463281e+07</td>\n",
       "      <td>4</td>\n",
       "    </tr>\n",
       "    <tr>\n",
       "      <td>...</td>\n",
       "      <td>...</td>\n",
       "      <td>...</td>\n",
       "    </tr>\n",
       "    <tr>\n",
       "      <td>92</td>\n",
       "      <td>1.419042e+07</td>\n",
       "      <td>92</td>\n",
       "    </tr>\n",
       "    <tr>\n",
       "      <td>93</td>\n",
       "      <td>1.273358e+07</td>\n",
       "      <td>93</td>\n",
       "    </tr>\n",
       "    <tr>\n",
       "      <td>94</td>\n",
       "      <td>7.888703e+06</td>\n",
       "      <td>94</td>\n",
       "    </tr>\n",
       "    <tr>\n",
       "      <td>95</td>\n",
       "      <td>7.375316e+06</td>\n",
       "      <td>95</td>\n",
       "    </tr>\n",
       "    <tr>\n",
       "      <td>96</td>\n",
       "      <td>4.543320e+06</td>\n",
       "      <td>96</td>\n",
       "    </tr>\n",
       "  </tbody>\n",
       "</table>\n",
       "<p>97 rows × 2 columns</p>\n",
       "</div>"
      ],
      "text/plain": [
       "           Gross  Score\n",
       "0   1.250016e+08      0\n",
       "1   1.100475e+08      1\n",
       "2   9.140579e+07      2\n",
       "3   8.591254e+07      3\n",
       "4   8.463281e+07      4\n",
       "..           ...    ...\n",
       "92  1.419042e+07     92\n",
       "93  1.273358e+07     93\n",
       "94  7.888703e+06     94\n",
       "95  7.375316e+06     95\n",
       "96  4.543320e+06     96\n",
       "\n",
       "[97 rows x 2 columns]"
      ]
     },
     "execution_count": 122,
     "metadata": {},
     "output_type": "execute_result"
    }
   ],
   "source": [
    "score"
   ]
  },
  {
   "cell_type": "code",
   "execution_count": 53,
   "metadata": {},
   "outputs": [
    {
     "data": {
      "image/png": "[encoded data removed]",
      "text/plain": [
       "<Figure size 432x288 with 1 Axes>"
      ]
     },
     "metadata": {
      "needs_background": "light"
     },
     "output_type": "display_data"
    }
   ],
   "source": [
    "ax = sns.scatterplot(x = 'Gross',y = 'Score', data = score)"
   ]
  },
  {
   "cell_type": "code",
   "execution_count": 54,
   "metadata": {},
   "outputs": [
    {
     "data": {
      "image/png": "[encoded data removed]",
      "text/plain": [
       "<Figure size 432x288 with 1 Axes>"
      ]
     },
     "metadata": {
      "needs_background": "light"
     },
     "output_type": "display_data"
    }
   ],
   "source": [
    "ax = sns.scatterplot(x = 'Gross',y = 'Rating', data = rating)"
   ]
  },
  {
   "cell_type": "code",
   "execution_count": 55,
   "metadata": {},
   "outputs": [
    {
     "data": {
      "image/png": "[encoded data removed]",
      "text/plain": [
       "<Figure size 432x288 with 1 Axes>"
      ]
     },
     "metadata": {
      "needs_background": "light"
     },
     "output_type": "display_data"
    }
   ],
   "source": [
    "ax = sns.scatterplot(x = 'Log Gross',y = 'Rating', data = rating)"
   ]
  },
  {
   "cell_type": "code",
   "execution_count": 20,
   "metadata": {},
   "outputs": [
    {
     "data": {
      "text/html": [
       "<div>\n",
       "<style scoped>\n",
       "    .dataframe tbody tr th:only-of-type {\n",
       "        vertical-align: middle;\n",
       "    }\n",
       "\n",
       "    .dataframe tbody tr th {\n",
       "        vertical-align: top;\n",
       "    }\n",
       "\n",
       "    .dataframe thead th {\n",
       "        text-align: right;\n",
       "    }\n",
       "</style>\n",
       "<table border=\"1\" class=\"dataframe\">\n",
       "  <thead>\n",
       "    <tr style=\"text-align: right;\">\n",
       "      <th></th>\n",
       "      <th>Gross</th>\n",
       "      <th>Rating</th>\n",
       "      <th>Log Gross</th>\n",
       "    </tr>\n",
       "  </thead>\n",
       "  <tbody>\n",
       "    <tr>\n",
       "      <td>Gross</td>\n",
       "      <td>1.000000</td>\n",
       "      <td>0.711173</td>\n",
       "      <td>0.891863</td>\n",
       "    </tr>\n",
       "    <tr>\n",
       "      <td>Rating</td>\n",
       "      <td>0.711173</td>\n",
       "      <td>1.000000</td>\n",
       "      <td>0.877963</td>\n",
       "    </tr>\n",
       "    <tr>\n",
       "      <td>Log Gross</td>\n",
       "      <td>0.891863</td>\n",
       "      <td>0.877963</td>\n",
       "      <td>1.000000</td>\n",
       "    </tr>\n",
       "  </tbody>\n",
       "</table>\n",
       "</div>"
      ],
      "text/plain": [
       "              Gross    Rating  Log Gross\n",
       "Gross      1.000000  0.711173   0.891863\n",
       "Rating     0.711173  1.000000   0.877963\n",
       "Log Gross  0.891863  0.877963   1.000000"
      ]
     },
     "execution_count": 20,
     "metadata": {},
     "output_type": "execute_result"
    }
   ],
   "source": [
    "rating.corr()"
   ]
  },
  {
   "cell_type": "code",
   "execution_count": 138,
   "metadata": {},
   "outputs": [],
   "source": [
    "genres['Genres'] = genres['Genres'].apply(lambda x:x.split())"
   ]
  },
  {
   "cell_type": "code",
   "execution_count": 185,
   "metadata": {},
   "outputs": [],
   "source": [
    "genres['Genres1'] = genres['Genres'].apply(lambda x:x[0])"
   ]
  },
  {
   "cell_type": "code",
   "execution_count": 177,
   "metadata": {},
   "outputs": [],
   "source": [
    "def genres_Split(list):\n",
    "    try:\n",
    "        x = list[1]\n",
    "    except:\n",
    "        x = list[0]\n",
    "    return x\n",
    "def genres_Split2(list):\n",
    "    try:\n",
    "        x = list[2]\n",
    "    except:\n",
    "        x = list[0]\n",
    "    return x"
   ]
  },
  {
   "cell_type": "code",
   "execution_count": 187,
   "metadata": {},
   "outputs": [],
   "source": [
    "genres['Genres2'] = genres['Genres'].apply(lambda x:genres_Split(x))\n",
    "genres['Genres3'] = genres['Genres'].apply(lambda x:genres_Split2(x))\n"
   ]
  },
  {
   "cell_type": "code",
   "execution_count": 183,
   "metadata": {},
   "outputs": [
    {
     "data": {
      "text/plain": [
       "['Adventure', 'Drama', 'Sci-Fi']"
      ]
     },
     "execution_count": 183,
     "metadata": {},
     "output_type": "execute_result"
    }
   ],
   "source": [
    "genres['Genres'][0]"
   ]
  },
  {
   "cell_type": "code",
   "execution_count": 188,
   "metadata": {},
   "outputs": [
    {
     "data": {
      "text/html": [
       "<div>\n",
       "<style scoped>\n",
       "    .dataframe tbody tr th:only-of-type {\n",
       "        vertical-align: middle;\n",
       "    }\n",
       "\n",
       "    .dataframe tbody tr th {\n",
       "        vertical-align: top;\n",
       "    }\n",
       "\n",
       "    .dataframe thead th {\n",
       "        text-align: right;\n",
       "    }\n",
       "</style>\n",
       "<table border=\"1\" class=\"dataframe\">\n",
       "  <thead>\n",
       "    <tr style=\"text-align: right;\">\n",
       "      <th></th>\n",
       "      <th>Gross</th>\n",
       "      <th>Genres</th>\n",
       "      <th>Genres1</th>\n",
       "      <th>Genres2</th>\n",
       "      <th>Genres3</th>\n",
       "    </tr>\n",
       "  </thead>\n",
       "  <tbody>\n",
       "    <tr>\n",
       "      <td>0</td>\n",
       "      <td>2.242822e+08</td>\n",
       "      <td>[Adventure, Drama, Sci-Fi]</td>\n",
       "      <td>Adventure</td>\n",
       "      <td>Drama</td>\n",
       "      <td>Sci-Fi</td>\n",
       "    </tr>\n",
       "    <tr>\n",
       "      <td>1</td>\n",
       "      <td>2.214757e+08</td>\n",
       "      <td>[Family, Sci-Fi]</td>\n",
       "      <td>Family</td>\n",
       "      <td>Sci-Fi</td>\n",
       "      <td>Family</td>\n",
       "    </tr>\n",
       "    <tr>\n",
       "      <td>2</td>\n",
       "      <td>1.899691e+08</td>\n",
       "      <td>[Musical, Romance]</td>\n",
       "      <td>Musical</td>\n",
       "      <td>Romance</td>\n",
       "      <td>Musical</td>\n",
       "    </tr>\n",
       "    <tr>\n",
       "      <td>3</td>\n",
       "      <td>1.841471e+08</td>\n",
       "      <td>[Action, Adventure, Sci-Fi]</td>\n",
       "      <td>Action</td>\n",
       "      <td>Adventure</td>\n",
       "      <td>Sci-Fi</td>\n",
       "    </tr>\n",
       "    <tr>\n",
       "      <td>4</td>\n",
       "      <td>1.774741e+08</td>\n",
       "      <td>[Action, Adventure]</td>\n",
       "      <td>Action</td>\n",
       "      <td>Adventure</td>\n",
       "      <td>Action</td>\n",
       "    </tr>\n",
       "    <tr>\n",
       "      <td>...</td>\n",
       "      <td>...</td>\n",
       "      <td>...</td>\n",
       "      <td>...</td>\n",
       "      <td>...</td>\n",
       "      <td>...</td>\n",
       "    </tr>\n",
       "    <tr>\n",
       "      <td>334</td>\n",
       "      <td>5.074630e+05</td>\n",
       "      <td>[Romance, Thriller]</td>\n",
       "      <td>Romance</td>\n",
       "      <td>Thriller</td>\n",
       "      <td>Romance</td>\n",
       "    </tr>\n",
       "    <tr>\n",
       "      <td>335</td>\n",
       "      <td>4.580000e+05</td>\n",
       "      <td>[Musical, Romance, War]</td>\n",
       "      <td>Musical</td>\n",
       "      <td>Romance</td>\n",
       "      <td>War</td>\n",
       "    </tr>\n",
       "    <tr>\n",
       "      <td>336</td>\n",
       "      <td>4.014630e+05</td>\n",
       "      <td>[Comedy, Thriller]</td>\n",
       "      <td>Comedy</td>\n",
       "      <td>Thriller</td>\n",
       "      <td>Comedy</td>\n",
       "    </tr>\n",
       "    <tr>\n",
       "      <td>337</td>\n",
       "      <td>3.032300e+05</td>\n",
       "      <td>[Family, Fantasy, Horror]</td>\n",
       "      <td>Family</td>\n",
       "      <td>Fantasy</td>\n",
       "      <td>Horror</td>\n",
       "    </tr>\n",
       "    <tr>\n",
       "      <td>338</td>\n",
       "      <td>2.996450e+05</td>\n",
       "      <td>[Drama, Film-Noir]</td>\n",
       "      <td>Drama</td>\n",
       "      <td>Film-Noir</td>\n",
       "      <td>Drama</td>\n",
       "    </tr>\n",
       "  </tbody>\n",
       "</table>\n",
       "<p>339 rows × 5 columns</p>\n",
       "</div>"
      ],
      "text/plain": [
       "            Gross                       Genres    Genres1    Genres2  Genres3\n",
       "0    2.242822e+08   [Adventure, Drama, Sci-Fi]  Adventure      Drama   Sci-Fi\n",
       "1    2.214757e+08             [Family, Sci-Fi]     Family     Sci-Fi   Family\n",
       "2    1.899691e+08           [Musical, Romance]    Musical    Romance  Musical\n",
       "3    1.841471e+08  [Action, Adventure, Sci-Fi]     Action  Adventure   Sci-Fi\n",
       "4    1.774741e+08          [Action, Adventure]     Action  Adventure   Action\n",
       "..            ...                          ...        ...        ...      ...\n",
       "334  5.074630e+05          [Romance, Thriller]    Romance   Thriller  Romance\n",
       "335  4.580000e+05      [Musical, Romance, War]    Musical    Romance      War\n",
       "336  4.014630e+05           [Comedy, Thriller]     Comedy   Thriller   Comedy\n",
       "337  3.032300e+05    [Family, Fantasy, Horror]     Family    Fantasy   Horror\n",
       "338  2.996450e+05           [Drama, Film-Noir]      Drama  Film-Noir    Drama\n",
       "\n",
       "[339 rows x 5 columns]"
      ]
     },
     "execution_count": 188,
     "metadata": {},
     "output_type": "execute_result"
    }
   ],
   "source": [
    "genres"
   ]
  },
  {
   "cell_type": "code",
   "execution_count": null,
   "metadata": {},
   "outputs": [],
   "source": []
  }
 ],
 "metadata": {
  "kernelspec": {
   "display_name": "Python 3",
   "language": "python",
   "name": "python3"
  },
  "language_info": {
   "codemirror_mode": {
    "name": "ipython",
    "version": 3
   },
   "file_extension": ".py",
   "mimetype": "text/x-python",
   "name": "python",
   "nbconvert_exporter": "python",
   "pygments_lexer": "ipython3",
   "version": "3.7.4"
  }
 },
 "nbformat": 4,
 "nbformat_minor": 2
}
