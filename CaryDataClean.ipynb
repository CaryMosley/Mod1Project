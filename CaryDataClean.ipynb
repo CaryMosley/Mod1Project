{
 "cells": [
  {
   "cell_type": "code",
   "execution_count": 1,
   "metadata": {},
   "outputs": [],
   "source": [
    "\n",
    "import pandas as pd\n",
    "import numpy as np\n",
    "import re\n",
    "import lxml\n",
    "import seaborn as sns\n",
    "\n",
    "%matplotlib inline"
   ]
  },
  {
   "cell_type": "code",
   "execution_count": 2,
   "metadata": {},
   "outputs": [],
   "source": [
    "df = pd.read_csv('movieData.csv')"
   ]
  },
  {
   "cell_type": "code",
   "execution_count": 3,
   "metadata": {},
   "outputs": [
    {
     "data": {
      "text/html": [
       "<div>\n",
       "<style scoped>\n",
       "    .dataframe tbody tr th:only-of-type {\n",
       "        vertical-align: middle;\n",
       "    }\n",
       "\n",
       "    .dataframe tbody tr th {\n",
       "        vertical-align: top;\n",
       "    }\n",
       "\n",
       "    .dataframe thead th {\n",
       "        text-align: right;\n",
       "    }\n",
       "</style>\n",
       "<table border=\"1\" class=\"dataframe\">\n",
       "  <thead>\n",
       "    <tr style=\"text-align: right;\">\n",
       "      <th></th>\n",
       "      <th>Unnamed: 0</th>\n",
       "      <th>Title</th>\n",
       "      <th>Year</th>\n",
       "      <th>Genre</th>\n",
       "      <th>Rating</th>\n",
       "      <th>Score</th>\n",
       "      <th>Director</th>\n",
       "      <th>Stars</th>\n",
       "    </tr>\n",
       "  </thead>\n",
       "  <tbody>\n",
       "    <tr>\n",
       "      <td>0</td>\n",
       "      <td>0</td>\n",
       "      <td>Parasite</td>\n",
       "      <td>2019</td>\n",
       "      <td>['Comedy', ' Drama', ' Thriller']</td>\n",
       "      <td>8.6</td>\n",
       "      <td>96.0</td>\n",
       "      <td>Bong Joon Ho</td>\n",
       "      <td>['Kang-ho Song', 'Sun-kyun Lee', 'Yeo-jeong Jo...</td>\n",
       "    </tr>\n",
       "    <tr>\n",
       "      <td>1</td>\n",
       "      <td>1</td>\n",
       "      <td>The Invisible Man</td>\n",
       "      <td>2020</td>\n",
       "      <td>['Horror', ' Mystery', ' Sci-Fi']</td>\n",
       "      <td>7.6</td>\n",
       "      <td>71.0</td>\n",
       "      <td>Leigh Whannell</td>\n",
       "      <td>['Elisabeth Moss', 'Oliver Jackson-Cohen', 'Ha...</td>\n",
       "    </tr>\n",
       "    <tr>\n",
       "      <td>2</td>\n",
       "      <td>2</td>\n",
       "      <td>Knives Out</td>\n",
       "      <td>2019</td>\n",
       "      <td>['Comedy', ' Crime', ' Drama']</td>\n",
       "      <td>8.0</td>\n",
       "      <td>82.0</td>\n",
       "      <td>Rian Johnson</td>\n",
       "      <td>['Daniel Craig', 'Chris Evans', 'Ana de Armas'...</td>\n",
       "    </tr>\n",
       "    <tr>\n",
       "      <td>3</td>\n",
       "      <td>3</td>\n",
       "      <td>Sonic the Hedgehog</td>\n",
       "      <td>2020</td>\n",
       "      <td>['Action', ' Adventure', ' Comedy']</td>\n",
       "      <td>6.8</td>\n",
       "      <td>47.0</td>\n",
       "      <td>Jeff Fowler</td>\n",
       "      <td>['Ben Schwartz', 'James Marsden', 'Jim Carrey'...</td>\n",
       "    </tr>\n",
       "    <tr>\n",
       "      <td>4</td>\n",
       "      <td>4</td>\n",
       "      <td>Candyman</td>\n",
       "      <td>2020</td>\n",
       "      <td>['Horror', ' Thriller']</td>\n",
       "      <td>0.0</td>\n",
       "      <td>0.0</td>\n",
       "      <td>Nia DaCosta</td>\n",
       "      <td>['Yahya Abdul-Mateen II', 'Teyonah Parris', 'N...</td>\n",
       "    </tr>\n",
       "  </tbody>\n",
       "</table>\n",
       "</div>"
      ],
      "text/plain": [
       "   Unnamed: 0               Title  Year                                Genre  \\\n",
       "0           0            Parasite  2019    ['Comedy', ' Drama', ' Thriller']   \n",
       "1           1   The Invisible Man  2020    ['Horror', ' Mystery', ' Sci-Fi']   \n",
       "2           2          Knives Out  2019       ['Comedy', ' Crime', ' Drama']   \n",
       "3           3  Sonic the Hedgehog  2020  ['Action', ' Adventure', ' Comedy']   \n",
       "4           4            Candyman  2020              ['Horror', ' Thriller']   \n",
       "\n",
       "   Rating  Score        Director  \\\n",
       "0     8.6   96.0    Bong Joon Ho   \n",
       "1     7.6   71.0  Leigh Whannell   \n",
       "2     8.0   82.0    Rian Johnson   \n",
       "3     6.8   47.0     Jeff Fowler   \n",
       "4     0.0    0.0     Nia DaCosta   \n",
       "\n",
       "                                               Stars  \n",
       "0  ['Kang-ho Song', 'Sun-kyun Lee', 'Yeo-jeong Jo...  \n",
       "1  ['Elisabeth Moss', 'Oliver Jackson-Cohen', 'Ha...  \n",
       "2  ['Daniel Craig', 'Chris Evans', 'Ana de Armas'...  \n",
       "3  ['Ben Schwartz', 'James Marsden', 'Jim Carrey'...  \n",
       "4  ['Yahya Abdul-Mateen II', 'Teyonah Parris', 'N...  "
      ]
     },
     "execution_count": 3,
     "metadata": {},
     "output_type": "execute_result"
    }
   ],
   "source": [
    "df.head()"
   ]
  },
  {
   "cell_type": "code",
   "execution_count": 4,
   "metadata": {},
   "outputs": [
    {
     "data": {
      "text/plain": [
       "(10000, 8)"
      ]
     },
     "execution_count": 4,
     "metadata": {},
     "output_type": "execute_result"
    }
   ],
   "source": [
    "df.shape"
   ]
  },
  {
   "cell_type": "code",
   "execution_count": null,
   "metadata": {},
   "outputs": [],
   "source": []
  }
 ],
 "metadata": {
  "kernelspec": {
   "display_name": "Python 3",
   "language": "python",
   "name": "python3"
  },
  "language_info": {
   "codemirror_mode": {
    "name": "ipython",
    "version": 3
   },
   "file_extension": ".py",
   "mimetype": "text/x-python",
   "name": "python",
   "nbconvert_exporter": "python",
   "pygments_lexer": "ipython3",
   "version": "3.7.4"
  }
 },
 "nbformat": 4,
 "nbformat_minor": 2
}
