{
 "cells": [
  {
   "cell_type": "code",
   "execution_count": null,
   "metadata": {},
   "outputs": [],
   "source": [
    "\n",
    "import pandas as pd\n",
    "import numpy as np\n",
    "import re\n",
    "import lxml\n",
    "import seaborn as sns\n",
    "import matplotlib as plt\n",
    "\n",
    "%matplotlib inline"
   ]
  },
  {
   "cell_type": "code",
   "execution_count": null,
   "metadata": {},
   "outputs": [],
   "source": [
    "df = pd.read_csv('mergedData.csv')"
   ]
  },
  {
   "cell_type": "code",
   "execution_count": null,
   "metadata": {},
   "outputs": [],
   "source": [
    "gross = merged['Gross']\n",
    "merged['Log Gross']= np.log(merged['Gross'])\n",
    "rating = merged['Rating']\n",
    "ax = sns.scatterplot(x = 'Gross',y = 'Rating', data = merged)"
   ]
  },
  {
   "cell_type": "code",
   "execution_count": null,
   "metadata": {},
   "outputs": [],
   "source": [
    "ax = sns.scatterplot(x = 'Log Gross',y = 'Rating', data = merged)"
   ]
  },
  {
   "cell_type": "code",
   "execution_count": null,
   "metadata": {},
   "outputs": [],
   "source": [
    "score = merged[['Director','Gross','Score']].groupby('Score').mean().sort_values('Gross', ascending = False)\n",
    "\n",
    "rating = merged[['Director','Gross','Rating']].groupby('Rating').mean().sort_values('Gross', ascending = False)\n",
    "\n",
    "genres = merged[['Director','Gross','Genre']].groupby('Genre').mean().sort_values('Gross', ascending = False)\n",
    "\n"
   ]
  },
  {
   "cell_type": "code",
   "execution_count": null,
   "metadata": {},
   "outputs": [],
   "source": [
    "score['Score']=score.index\n",
    "rating['Rating']=rating.index\n",
    "genres['Genres']=genres.index\n",
    "rating['Log Gross']=np.log(rating['Gross'])\n",
    "score.reset_index(drop = True, inplace = True)\n",
    "rating.reset_index(drop = True, inplace = True)\n",
    "genres.reset_index(drop = True, inplace = True)"
   ]
  },
  {
   "cell_type": "code",
   "execution_count": null,
   "metadata": {},
   "outputs": [],
   "source": [
    "ax = sns.scatterplot(x = 'Gross',y = 'Score', data = score)\n"
   ]
  },
  {
   "cell_type": "code",
   "execution_count": null,
   "metadata": {},
   "outputs": [],
   "source": [
    "ax = sns.scatterplot(x = 'Gross',y = 'Rating', data = rating)\n"
   ]
  },
  {
   "cell_type": "code",
   "execution_count": null,
   "metadata": {},
   "outputs": [],
   "source": [
    "ax = sns.scatterplot(x = 'Log Gross',y = 'Rating', data = rating)\n",
    "\n"
   ]
  },
  {
   "cell_type": "code",
   "execution_count": null,
   "metadata": {},
   "outputs": [],
   "source": [
    "rating.corr()\n"
   ]
  },
  {
   "cell_type": "code",
   "execution_count": null,
   "metadata": {},
   "outputs": [],
   "source": [
    "genres['Genres'] = genres['Genres'].apply(lambda x:x.split())\n",
    "\n"
   ]
  },
  {
   "cell_type": "code",
   "execution_count": null,
   "metadata": {},
   "outputs": [],
   "source": [
    "\n",
    "genres['Genres1'] = genres['Genres'].apply(lambda x:x[0])\n"
   ]
  },
  {
   "cell_type": "code",
   "execution_count": null,
   "metadata": {},
   "outputs": [],
   "source": [
    "def genres_Split(list):\n",
    "    try:\n",
    "        x = list[1]\n",
    "    except:\n",
    "        x = list[0]\n",
    "    return x\n",
    "def genres_Split2(list):\n",
    "    try:\n",
    "        x = list[2]\n",
    "    except:\n",
    "        x = list[0]\n",
    "    return x\n"
   ]
  },
  {
   "cell_type": "code",
   "execution_count": null,
   "metadata": {},
   "outputs": [],
   "source": [
    "genres['Genres2'] = genres['Genres'].apply(lambda x:genres_Split(x))\n",
    "genres['Genres3'] = genres['Genres'].apply(lambda x:genres_Split2(x))\n",
    "\n"
   ]
  },
  {
   "cell_type": "code",
   "execution_count": null,
   "metadata": {},
   "outputs": [],
   "source": []
  }
 ],
 "metadata": {
  "kernelspec": {
   "display_name": "Python 3",
   "language": "python",
   "name": "python3"
  },
  "language_info": {
   "codemirror_mode": {
    "name": "ipython",
    "version": 3
   },
   "file_extension": ".py",
   "mimetype": "text/x-python",
   "name": "python",
   "nbconvert_exporter": "python",
   "pygments_lexer": "ipython3",
   "version": "3.7.4"
  }
 },
 "nbformat": 4,
 "nbformat_minor": 2
}
